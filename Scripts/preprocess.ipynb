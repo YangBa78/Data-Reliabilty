{
 "cells": [
  {
   "cell_type": "code",
   "execution_count": 1,
   "metadata": {},
   "outputs": [],
   "source": [
    "import pandas as pd"
   ]
  },
  {
   "cell_type": "code",
   "execution_count": 2,
   "metadata": {},
   "outputs": [],
   "source": [
    "df = pd.read_csv(\"MTurkPerformanceData.csv\")"
   ]
  },
  {
   "cell_type": "code",
   "execution_count": 3,
   "metadata": {},
   "outputs": [
    {
     "data": {
      "text/html": [
       "<div>\n",
       "<style scoped>\n",
       "    .dataframe tbody tr th:only-of-type {\n",
       "        vertical-align: middle;\n",
       "    }\n",
       "\n",
       "    .dataframe tbody tr th {\n",
       "        vertical-align: top;\n",
       "    }\n",
       "\n",
       "    .dataframe thead th {\n",
       "        text-align: right;\n",
       "    }\n",
       "</style>\n",
       "<table border=\"1\" class=\"dataframe\">\n",
       "  <thead>\n",
       "    <tr style=\"text-align: right;\">\n",
       "      <th></th>\n",
       "      <th>Date</th>\n",
       "      <th>WorkerId</th>\n",
       "      <th>Qualtrics_1</th>\n",
       "      <th>Qualtrics_2</th>\n",
       "      <th>Hit ID</th>\n",
       "      <th>Assignment ID</th>\n",
       "      <th>Interaction Structure</th>\n",
       "      <th>Deferral Rate</th>\n",
       "      <th>Deferral Rate 2</th>\n",
       "      <th>Task difficulty 2</th>\n",
       "      <th>...</th>\n",
       "      <th>Completion Time</th>\n",
       "      <th>Log Time</th>\n",
       "      <th>Correct Prediction</th>\n",
       "      <th>AI Correct Prediction</th>\n",
       "      <th>Type of system error</th>\n",
       "      <th>Type of AI error</th>\n",
       "      <th>Last Decision Correct</th>\n",
       "      <th>Adopt Model Prediction</th>\n",
       "      <th>Coded Prediction</th>\n",
       "      <th>Model Adoption</th>\n",
       "    </tr>\n",
       "  </thead>\n",
       "  <tbody>\n",
       "    <tr>\n",
       "      <th>0</th>\n",
       "      <td>Wed Oct 27 00:13:42 PDT 2021</td>\n",
       "      <td>A3KX41BO16LNFI</td>\n",
       "      <td>253336</td>\n",
       "      <td>465779</td>\n",
       "      <td>3UUSLRKAUN5LXGEB5MAE2UFXSO0D7W</td>\n",
       "      <td>30OG32W0SWDIFRIS7Q7PTTFV21KENE</td>\n",
       "      <td>soft</td>\n",
       "      <td>25% Pre-AI</td>\n",
       "      <td>0.25</td>\n",
       "      <td>easy</td>\n",
       "      <td>...</td>\n",
       "      <td>2.4</td>\n",
       "      <td>0.875469</td>\n",
       "      <td>Correct</td>\n",
       "      <td>Correct</td>\n",
       "      <td>Correct</td>\n",
       "      <td>Correct</td>\n",
       "      <td>NaN</td>\n",
       "      <td>Adopt</td>\n",
       "      <td>1</td>\n",
       "      <td>Adopt</td>\n",
       "    </tr>\n",
       "    <tr>\n",
       "      <th>1</th>\n",
       "      <td>Wed Oct 27 00:13:42 PDT 2021</td>\n",
       "      <td>A3KX41BO16LNFI</td>\n",
       "      <td>253336</td>\n",
       "      <td>465779</td>\n",
       "      <td>3UUSLRKAUN5LXGEB5MAE2UFXSO0D7W</td>\n",
       "      <td>30OG32W0SWDIFRIS7Q7PTTFV21KENE</td>\n",
       "      <td>soft</td>\n",
       "      <td>25% Pre-AI</td>\n",
       "      <td>0.25</td>\n",
       "      <td>easy</td>\n",
       "      <td>...</td>\n",
       "      <td>2.0</td>\n",
       "      <td>0.693147</td>\n",
       "      <td>Correct</td>\n",
       "      <td>Correct</td>\n",
       "      <td>Correct</td>\n",
       "      <td>Correct</td>\n",
       "      <td>NaN</td>\n",
       "      <td>Adopt</td>\n",
       "      <td>1</td>\n",
       "      <td>Adopt</td>\n",
       "    </tr>\n",
       "  </tbody>\n",
       "</table>\n",
       "<p>2 rows × 39 columns</p>\n",
       "</div>"
      ],
      "text/plain": [
       "                           Date        WorkerId Qualtrics_1 Qualtrics_2  \\\n",
       "0  Wed Oct 27 00:13:42 PDT 2021  A3KX41BO16LNFI      253336      465779   \n",
       "1  Wed Oct 27 00:13:42 PDT 2021  A3KX41BO16LNFI      253336      465779   \n",
       "\n",
       "                           Hit ID                   Assignment ID  \\\n",
       "0  3UUSLRKAUN5LXGEB5MAE2UFXSO0D7W  30OG32W0SWDIFRIS7Q7PTTFV21KENE   \n",
       "1  3UUSLRKAUN5LXGEB5MAE2UFXSO0D7W  30OG32W0SWDIFRIS7Q7PTTFV21KENE   \n",
       "\n",
       "  Interaction Structure Deferral Rate  Deferral Rate 2 Task difficulty 2  ...  \\\n",
       "0                  soft    25% Pre-AI             0.25              easy  ...   \n",
       "1                  soft    25% Pre-AI             0.25              easy  ...   \n",
       "\n",
       "  Completion Time  Log Time  Correct Prediction AI Correct Prediction  \\\n",
       "0             2.4  0.875469             Correct               Correct   \n",
       "1             2.0  0.693147             Correct               Correct   \n",
       "\n",
       "  Type of system error  Type of AI error Last Decision Correct  \\\n",
       "0              Correct           Correct                   NaN   \n",
       "1              Correct           Correct                   NaN   \n",
       "\n",
       "  Adopt Model Prediction Coded Prediction Model Adoption  \n",
       "0                  Adopt                1          Adopt  \n",
       "1                  Adopt                1          Adopt  \n",
       "\n",
       "[2 rows x 39 columns]"
      ]
     },
     "execution_count": 3,
     "metadata": {},
     "output_type": "execute_result"
    }
   ],
   "source": [
    "df.head(2)"
   ]
  },
  {
   "cell_type": "code",
   "execution_count": 4,
   "metadata": {},
   "outputs": [
    {
     "data": {
      "text/plain": [
       "(12320, 39)"
      ]
     },
     "execution_count": 4,
     "metadata": {},
     "output_type": "execute_result"
    }
   ],
   "source": [
    "df.shape"
   ]
  },
  {
   "cell_type": "code",
   "execution_count": 5,
   "metadata": {},
   "outputs": [
    {
     "data": {
      "text/plain": [
       "Date                         0\n",
       "WorkerId                     0\n",
       "Qualtrics_1                  0\n",
       "Qualtrics_2                  0\n",
       "Hit ID                       0\n",
       "Assignment ID                0\n",
       "Interaction Structure        0\n",
       "Deferral Rate                0\n",
       "Deferral Rate 2              0\n",
       "Task difficulty 2            0\n",
       "Task difficulty              0\n",
       "Condition                    0\n",
       "Block                        0\n",
       "Condition Type               0\n",
       "Class                        0\n",
       "TID                          0\n",
       "DB Name                      0\n",
       "Image 1                      0\n",
       "Image 2                      0\n",
       "Source                     320\n",
       "True Label                   0\n",
       "AI Label                     0\n",
       "Intervene                    0\n",
       "Last Decision             6560\n",
       "Final Decision               0\n",
       "Gender                     160\n",
       "Time                         0\n",
       "Time Char                    0\n",
       "Time Char 2                  0\n",
       "Completion Time              1\n",
       "Log Time                     1\n",
       "Correct Prediction           0\n",
       "AI Correct Prediction        0\n",
       "Type of system error         0\n",
       "Type of AI error             0\n",
       "Last Decision Correct     6560\n",
       "Adopt Model Prediction       0\n",
       "Coded Prediction             0\n",
       "Model Adoption            3293\n",
       "dtype: int64"
      ]
     },
     "execution_count": 5,
     "metadata": {},
     "output_type": "execute_result"
    }
   ],
   "source": [
    "df.isna().sum()"
   ]
  },
  {
   "cell_type": "code",
   "execution_count": 6,
   "metadata": {},
   "outputs": [
    {
     "name": "stdout",
     "output_type": "stream",
     "text": [
      "Date\n",
      "Wed Oct 27 01:27:26 PDT 2021    154\n",
      "Wed Oct 27 00:13:42 PDT 2021     77\n",
      "Wed Oct 27 01:19:09 PDT 2021     77\n",
      "Tue Oct 26 23:48:24 PDT 2021     77\n",
      "Wed Oct 27 00:30:16 PDT 2021     77\n",
      "                               ... \n",
      "Wed Oct 27 00:48:39 PDT 2021     77\n",
      "Wed Oct 27 00:27:41 PDT 2021     77\n",
      "Wed Oct 27 00:25:43 PDT 2021     77\n",
      "Tue Oct 26 23:54:06 PDT 2021     77\n",
      "Wed Oct 27 00:52:13 PDT 2021     77\n",
      "Name: Date, Length: 159, dtype: int64\n",
      "\n",
      "WorkerId\n",
      "A361Y1J3LPJD2I    154\n",
      "A3KX41BO16LNFI     77\n",
      "A25R30EBOGEYFH     77\n",
      "A325YJTEVR04OL     77\n",
      "A16JBNLJFS6DLN     77\n",
      "                 ... \n",
      "AS13V1K31UMD7      77\n",
      "A16EL6JOVKN2EE     77\n",
      "A39WDUMRJ91X8T     77\n",
      "A3L3Q3L4PYOGNS     77\n",
      "A3IO9XP77IUUNN     77\n",
      "Name: WorkerId, Length: 159, dtype: int64\n",
      "\n",
      "Qualtrics_1\n",
      "253336    77\n",
      "421257    77\n",
      "647042    77\n",
      "570257    77\n",
      "83369     77\n",
      "          ..\n",
      "568128    77\n",
      "752409    77\n",
      "763034    77\n",
      "666833    77\n",
      "453517    77\n",
      "Name: Qualtrics_1, Length: 160, dtype: int64\n",
      "\n",
      "Qualtrics_2\n",
      "465779    77\n",
      "174709    77\n",
      "829996    77\n",
      "106363    77\n",
      "525126    77\n",
      "          ..\n",
      "444269    77\n",
      "409924    77\n",
      "135533    77\n",
      "153983    77\n",
      "179514    77\n",
      "Name: Qualtrics_2, Length: 160, dtype: int64\n",
      "\n",
      "Hit ID\n",
      "3UUSLRKAUN5LXGEB5MAE2UFXSO0D7W    3080\n",
      "3EGKVCRQFYUBX3CSEZ98KHBUT2XYBB    3080\n",
      "34HEO7RUG8WXHSVEUQHIHAYR8XXRA7    3080\n",
      "3PKVGQTFIJMYDATHAWVYKWGYBO0YRO    3080\n",
      "Name: Hit ID, dtype: int64\n",
      "\n",
      "Assignment ID\n",
      "30OG32W0SWDIFRIS7Q7PTTFV21KENE    77\n",
      "31Q0U3WYDRHUS5WTFVVLQCABDD6718    77\n",
      "3NKQQ8O3907QIBO18W8R16P4AL7DU7    77\n",
      "3NPI0JQDAQ7K7VC2D09CW4KR5Q3PT6    77\n",
      "3OSWBBLG1GZIZFIWD1JELDO843ODXZ    77\n",
      "                                  ..\n",
      "3FFJ6VRIL3QRA0S723VI3WHAM1B0IT    77\n",
      "3GFK2QRXXBJ862YDOQ59LIM9IKPW5M    77\n",
      "3HRMW88U18SD6JIYNITAVPOR3AV0M9    77\n",
      "3HSYG7LRBL0KTLPZ6ZQCZWBWS36KKU    77\n",
      "3ZPPDN2SLXYXQPEY6GOKBSKBXCYE9A    77\n",
      "Name: Assignment ID, Length: 160, dtype: int64\n",
      "\n",
      "Interaction Structure\n",
      "soft        6560\n",
      "Pre-AI 1    2880\n",
      "Pre-AI 3    2880\n",
      "Name: Interaction Structure, dtype: int64\n",
      "\n",
      "Deferral Rate\n",
      "25% Pre-AI    6160\n",
      "75% Pre-AI    6160\n",
      "Name: Deferral Rate, dtype: int64\n",
      "\n",
      "Deferral Rate 2\n",
      "0.25    6160\n",
      "0.75    6160\n",
      "Name: Deferral Rate 2, dtype: int64\n",
      "\n",
      "Task difficulty 2\n",
      "easy          6560\n",
      "difficult     5600\n",
      "difficulty     160\n",
      "Name: Task difficulty 2, dtype: int64\n",
      "\n",
      "Task difficulty\n",
      "easy         6560\n",
      "difficult    5760\n",
      "Name: Task difficulty, dtype: int64\n",
      "\n",
      "Condition\n",
      "1    3080\n",
      "2    3080\n",
      "3    3080\n",
      "4    3080\n",
      "Name: Condition, dtype: int64\n",
      "\n",
      "Block\n",
      "2    8640\n",
      "1    2880\n",
      "0     800\n",
      "Name: Block, dtype: int64\n",
      "\n",
      "Condition Type\n",
      "soft deferral      6560\n",
      "pre-AI Judgment    5760\n",
      "Name: Condition Type, dtype: int64\n",
      "\n",
      "Class\n",
      "easy mismatch         3360\n",
      "easy match            3200\n",
      "difficult mismatch    2880\n",
      "difficult match       2720\n",
      "difficulty match       160\n",
      "Name: Class, dtype: int64\n",
      "\n",
      "TID\n",
      "1024    160\n",
      "1074    160\n",
      "694     160\n",
      "286     160\n",
      "1048    160\n",
      "       ... \n",
      "261     160\n",
      "557     160\n",
      "1228    160\n",
      "1380    160\n",
      "756     160\n",
      "Name: TID, Length: 77, dtype: int64\n",
      "\n",
      "DB Name\n",
      "morphed           3360\n",
      "multiview         3200\n",
      "vgg               2880\n",
      "vgg_1             1280\n",
      "multiview_0201     800\n",
      "multiview_0101     320\n",
      "iranian_women      160\n",
      "iranian folder     160\n",
      "iranian            160\n",
      "Name: DB Name, dtype: int64\n",
      "\n",
      "Image 1\n",
      "125_02_01_041_08.png     160\n",
      "0_n004220_0005_01.png    160\n",
      "4603_0.jpg               160\n",
      "056_01_01_051_05.png     160\n",
      "0_n004755_0001_01.png    160\n",
      "                        ... \n",
      "028_01_01_041_02.png     160\n",
      "0_n004032_0002_02.png    160\n",
      "9780_0.jpg               160\n",
      "0_n008021_0004_04.png    160\n",
      "0_n003999_0001_01.png    160\n",
      "Name: Image 1, Length: 77, dtype: int64\n",
      "\n",
      "Image 2\n",
      "125_02_01_041_09.png     160\n",
      "0_n004270_0004_02.png    160\n",
      "4603_1.jpg               160\n",
      "150_01_01_130_11.png     160\n",
      "0_n005829_0003_01.png    160\n",
      "                        ... \n",
      "128_01_01_041_15.png     160\n",
      "0_n005838_0004_01.png    160\n",
      "9780_1.jpg               160\n",
      "0_n008992_0007_01.png    160\n",
      "0_n005544_0006_01.png    160\n",
      "Name: Image 2, Length: 77, dtype: int64\n",
      "\n",
      "Source\n",
      "Others    6880\n",
      "Trials    2880\n",
      "Pilot     2240\n",
      "Name: Source, dtype: int64\n",
      "\n",
      "True Label\n",
      "different    6240\n",
      "same         6080\n",
      "Name: True Label, dtype: int64\n",
      "\n",
      "AI Label\n",
      "same         6308\n",
      "different    6012\n",
      "Name: AI Label, dtype: int64\n",
      "\n",
      "Intervene\n",
      "False    8887\n",
      "True     3433\n",
      "Name: Intervene, dtype: int64\n",
      "\n",
      "Last Decision\n",
      "same         3770\n",
      "different    1990\n",
      "Name: Last Decision, dtype: int64\n",
      "\n",
      "Final Decision\n",
      "different    6307\n",
      "same         6013\n",
      "Name: Final Decision, dtype: int64\n",
      "\n",
      "Gender\n",
      "male      8480\n",
      "female    3520\n",
      "both       160\n",
      "Name: Gender, dtype: int64\n",
      "\n",
      "Time\n",
      "00:03.0    1171\n",
      "00:02.0    1031\n",
      "00:04.0    1009\n",
      "00:05.0     743\n",
      "00:06.0     449\n",
      "           ... \n",
      "00:37.7       1\n",
      "01:06.9       1\n",
      "00:20.6       1\n",
      "0:00:17       1\n",
      "00:25.6       1\n",
      "Name: Time, Length: 359, dtype: int64\n",
      "\n",
      "Time Char\n",
      "03.0    1171\n",
      "02.0    1031\n",
      "04.0    1009\n",
      "05.0     743\n",
      "06.0     449\n",
      "        ... \n",
      "46.9       1\n",
      "46.0       1\n",
      "1:00       1\n",
      "50.1       1\n",
      "25.6       1\n",
      "Name: Time Char, Length: 347, dtype: int64\n",
      "\n",
      "Time Char 2\n",
      "03.0    1171\n",
      "02.0    1031\n",
      "04.0    1009\n",
      "05.0     743\n",
      "06.0     449\n",
      "        ... \n",
      "46.9       1\n",
      "46.0       1\n",
      "1:00       1\n",
      "50.1       1\n",
      "25.6       1\n",
      "Name: Time Char 2, Length: 347, dtype: int64\n",
      "\n",
      "Completion Time\n",
      "3.0     1321\n",
      "2.0     1173\n",
      "4.0     1132\n",
      "5.0      822\n",
      "6.0      505\n",
      "        ... \n",
      "24.2       1\n",
      "33.6       1\n",
      "46.9       1\n",
      "37.6       1\n",
      "25.6       1\n",
      "Name: Completion Time, Length: 315, dtype: int64\n",
      "\n",
      "Log Time\n",
      "1.098612    1321\n",
      "0.693147    1173\n",
      "1.386294    1132\n",
      "1.609438     822\n",
      "1.791759     505\n",
      "            ... \n",
      "3.186353       1\n",
      "3.514526       1\n",
      "3.848018       1\n",
      "3.627004       1\n",
      "3.242592       1\n",
      "Name: Log Time, Length: 315, dtype: int64\n",
      "\n",
      "Correct Prediction\n",
      "Correct    9217\n",
      "Error      3103\n",
      "Name: Correct Prediction, dtype: int64\n",
      "\n",
      "AI Correct Prediction\n",
      "Correct    8774\n",
      "Error      3546\n",
      "Name: AI Correct Prediction, dtype: int64\n",
      "\n",
      "Type of system error\n",
      "Correct           9217\n",
      "false positive    1585\n",
      "false negative    1518\n",
      "Name: Type of system error, dtype: int64\n",
      "\n",
      "Type of AI error\n",
      "Correct           8774\n",
      "false negative    1887\n",
      "false positive    1659\n",
      "Name: Type of AI error, dtype: int64\n",
      "\n",
      "Last Decision Correct\n",
      "Correct    3514\n",
      "Error      2246\n",
      "Name: Last Decision Correct, dtype: int64\n",
      "\n",
      "Adopt Model Prediction\n",
      "Reject    6733\n",
      "Adopt     5587\n",
      "Name: Adopt Model Prediction, dtype: int64\n",
      "\n",
      "Coded Prediction\n",
      "1    9217\n",
      "0    3103\n",
      "Name: Coded Prediction, dtype: int64\n",
      "\n",
      "Model Adoption\n",
      "Adopt     6375\n",
      "Reject    2652\n",
      "Name: Model Adoption, dtype: int64\n",
      "\n"
     ]
    }
   ],
   "source": [
    "for i in df.columns:\n",
    "    print(i)\n",
    "    print(df[i].value_counts())\n",
    "    print()"
   ]
  },
  {
   "cell_type": "code",
   "execution_count": 7,
   "metadata": {},
   "outputs": [
    {
     "data": {
      "text/plain": [
       "28       30OG32W0SWDIFRIS7Q7PTTFV21KENE\n",
       "109      31Q0U3WYDRHUS5WTFVVLQCABDD6718\n",
       "169      32M8BPYGAVOOL43SG5KLOO4QTI5GIH\n",
       "275      3483FV8BEGLIDQ0KFPQ7PHKKA8026L\n",
       "363      34S6N1K2ZXL4B169LEZG148JPMCLHZ\n",
       "                      ...              \n",
       "11989    3WOKGM4L73I16M3A0Y8NNTDWYAAO0C\n",
       "12050    3WQ3B2KGEAIHUHZJSC71VEW7W3XB1Y\n",
       "12163    3X73LLYYQ3GUZ19UXRFVEWC8UH7NHY\n",
       "12188    3YMU66OBIPAOP9S8AN20OC3BT5LGHJ\n",
       "12310    3ZPPDN2SLXYXQPEY6GOKBSKBXCYE9A\n",
       "Name: Assignment ID, Length: 160, dtype: object"
      ]
     },
     "execution_count": 7,
     "metadata": {},
     "output_type": "execute_result"
    }
   ],
   "source": [
    "df[df['TID'] == 113]['Assignment ID']"
   ]
  },
  {
   "cell_type": "code",
   "execution_count": 8,
   "metadata": {},
   "outputs": [
    {
     "data": {
      "text/plain": [
       "28       A3KX41BO16LNFI\n",
       "109       AKDW4KVJTZZU8\n",
       "169       AQFZPEWVIGAQM\n",
       "275      A1PJEIP51Q7JTN\n",
       "363      A361Y1J3LPJD2I\n",
       "              ...      \n",
       "11989     AVENDCL5QRCO3\n",
       "12050     A75YJO70YXWMK\n",
       "12163     AAHKL60NI8VZM\n",
       "12188    A34AL11AXC9KK8\n",
       "12310    A3IO9XP77IUUNN\n",
       "Name: WorkerId, Length: 160, dtype: object"
      ]
     },
     "execution_count": 8,
     "metadata": {},
     "output_type": "execute_result"
    }
   ],
   "source": [
    "df[df['TID'] == 113]['WorkerId']"
   ]
  },
  {
   "cell_type": "code",
   "execution_count": 9,
   "metadata": {},
   "outputs": [
    {
     "data": {
      "text/plain": [
       "Index(['Date', 'WorkerId', 'Qualtrics_1', 'Qualtrics_2', 'Hit ID',\n",
       "       'Assignment ID', 'Interaction Structure', 'Deferral Rate',\n",
       "       'Deferral Rate 2', 'Task difficulty 2', 'Task difficulty', 'Condition',\n",
       "       'Block', 'Condition Type', 'Class', 'TID', 'DB Name', 'Image 1',\n",
       "       'Image 2', 'Source', 'True Label', 'AI Label', 'Intervene',\n",
       "       'Last Decision', 'Final Decision', 'Gender', 'Time', 'Time Char',\n",
       "       'Time Char 2', 'Completion Time', 'Log Time', 'Correct Prediction',\n",
       "       'AI Correct Prediction', 'Type of system error', 'Type of AI error',\n",
       "       'Last Decision Correct', 'Adopt Model Prediction', 'Coded Prediction',\n",
       "       'Model Adoption'],\n",
       "      dtype='object')"
      ]
     },
     "execution_count": 9,
     "metadata": {},
     "output_type": "execute_result"
    }
   ],
   "source": [
    "df.columns"
   ]
  },
  {
   "cell_type": "code",
   "execution_count": 10,
   "metadata": {},
   "outputs": [],
   "source": [
    "var = ['WorkerId', 'Assignment ID', 'Interaction Structure', 'Deferral Rate', 'Task difficulty','Class', 'TID',  'True Label', 'Completion Time', 'Correct Prediction', 'AI Correct Prediction', 'Type of system error', 'Type of AI error',\n",
    "       'Last Decision Correct','Model Adoption']"
   ]
  },
  {
   "cell_type": "code",
   "execution_count": 11,
   "metadata": {},
   "outputs": [],
   "source": [
    "df_ = df[var]"
   ]
  },
  {
   "cell_type": "code",
   "execution_count": 12,
   "metadata": {},
   "outputs": [
    {
     "data": {
      "text/plain": [
       "WorkerId                    0\n",
       "Assignment ID               0\n",
       "Interaction Structure       0\n",
       "Deferral Rate               0\n",
       "Task difficulty             0\n",
       "Class                       0\n",
       "TID                         0\n",
       "True Label                  0\n",
       "Completion Time             1\n",
       "Correct Prediction          0\n",
       "AI Correct Prediction       0\n",
       "Type of system error        0\n",
       "Type of AI error            0\n",
       "Last Decision Correct    6560\n",
       "Model Adoption           3293\n",
       "dtype: int64"
      ]
     },
     "execution_count": 12,
     "metadata": {},
     "output_type": "execute_result"
    }
   ],
   "source": [
    "df_.isna().sum()"
   ]
  },
  {
   "cell_type": "code",
   "execution_count": 13,
   "metadata": {},
   "outputs": [
    {
     "name": "stderr",
     "output_type": "stream",
     "text": [
      "C:\\Users\\alex7\\AppData\\Local\\Temp\\ipykernel_17376\\256099456.py:1: SettingWithCopyWarning: \n",
      "A value is trying to be set on a copy of a slice from a DataFrame\n",
      "\n",
      "See the caveats in the documentation: https://pandas.pydata.org/pandas-docs/stable/user_guide/indexing.html#returning-a-view-versus-a-copy\n",
      "  df_.dropna(subset = ['Completion Time'], axis=0, inplace=True)\n"
     ]
    }
   ],
   "source": [
    "df_.dropna(subset = ['Completion Time'], axis=0, inplace=True)"
   ]
  },
  {
   "cell_type": "code",
   "execution_count": 14,
   "metadata": {},
   "outputs": [
    {
     "data": {
      "text/plain": [
       "WorkerId                    0\n",
       "Assignment ID               0\n",
       "Interaction Structure       0\n",
       "Deferral Rate               0\n",
       "Task difficulty             0\n",
       "Class                       0\n",
       "TID                         0\n",
       "True Label                  0\n",
       "Completion Time             0\n",
       "Correct Prediction          0\n",
       "AI Correct Prediction       0\n",
       "Type of system error        0\n",
       "Type of AI error            0\n",
       "Last Decision Correct    6559\n",
       "Model Adoption           3293\n",
       "dtype: int64"
      ]
     },
     "execution_count": 14,
     "metadata": {},
     "output_type": "execute_result"
    }
   ],
   "source": [
    "df_.isna().sum()"
   ]
  },
  {
   "cell_type": "code",
   "execution_count": 15,
   "metadata": {},
   "outputs": [
    {
     "ename": "ModuleNotFoundError",
     "evalue": "No module named 'openpyxl'",
     "output_type": "error",
     "traceback": [
      "\u001b[1;31m---------------------------------------------------------------------------\u001b[0m",
      "\u001b[1;31mModuleNotFoundError\u001b[0m                       Traceback (most recent call last)",
      "\u001b[1;32me:\\Dropbox (ASU)\\Code\\8.3\\preprocess.ipynb Cell 15\u001b[0m in \u001b[0;36m<cell line: 1>\u001b[1;34m()\u001b[0m\n\u001b[1;32m----> <a href='vscode-notebook-cell:/e%3A/Dropbox%20%28ASU%29/Code/8.3/preprocess.ipynb#X20sZmlsZQ%3D%3D?line=0'>1</a>\u001b[0m df_\u001b[39m.\u001b[39;49mto_excel(\u001b[39m'\u001b[39;49m\u001b[39mMtutkP.xlsx\u001b[39;49m\u001b[39m'\u001b[39;49m)\n",
      "File \u001b[1;32mc:\\Users\\alex7\\miniconda3\\envs\\tf\\lib\\site-packages\\pandas\\core\\generic.py:2345\u001b[0m, in \u001b[0;36mNDFrame.to_excel\u001b[1;34m(self, excel_writer, sheet_name, na_rep, float_format, columns, header, index, index_label, startrow, startcol, engine, merge_cells, encoding, inf_rep, verbose, freeze_panes, storage_options)\u001b[0m\n\u001b[0;32m   2332\u001b[0m \u001b[39mfrom\u001b[39;00m \u001b[39mpandas\u001b[39;00m\u001b[39m.\u001b[39;00m\u001b[39mio\u001b[39;00m\u001b[39m.\u001b[39;00m\u001b[39mformats\u001b[39;00m\u001b[39m.\u001b[39;00m\u001b[39mexcel\u001b[39;00m \u001b[39mimport\u001b[39;00m ExcelFormatter\n\u001b[0;32m   2334\u001b[0m formatter \u001b[39m=\u001b[39m ExcelFormatter(\n\u001b[0;32m   2335\u001b[0m     df,\n\u001b[0;32m   2336\u001b[0m     na_rep\u001b[39m=\u001b[39mna_rep,\n\u001b[1;32m   (...)\u001b[0m\n\u001b[0;32m   2343\u001b[0m     inf_rep\u001b[39m=\u001b[39minf_rep,\n\u001b[0;32m   2344\u001b[0m )\n\u001b[1;32m-> 2345\u001b[0m formatter\u001b[39m.\u001b[39;49mwrite(\n\u001b[0;32m   2346\u001b[0m     excel_writer,\n\u001b[0;32m   2347\u001b[0m     sheet_name\u001b[39m=\u001b[39;49msheet_name,\n\u001b[0;32m   2348\u001b[0m     startrow\u001b[39m=\u001b[39;49mstartrow,\n\u001b[0;32m   2349\u001b[0m     startcol\u001b[39m=\u001b[39;49mstartcol,\n\u001b[0;32m   2350\u001b[0m     freeze_panes\u001b[39m=\u001b[39;49mfreeze_panes,\n\u001b[0;32m   2351\u001b[0m     engine\u001b[39m=\u001b[39;49mengine,\n\u001b[0;32m   2352\u001b[0m     storage_options\u001b[39m=\u001b[39;49mstorage_options,\n\u001b[0;32m   2353\u001b[0m )\n",
      "File \u001b[1;32mc:\\Users\\alex7\\miniconda3\\envs\\tf\\lib\\site-packages\\pandas\\io\\formats\\excel.py:888\u001b[0m, in \u001b[0;36mExcelFormatter.write\u001b[1;34m(self, writer, sheet_name, startrow, startcol, freeze_panes, engine, storage_options)\u001b[0m\n\u001b[0;32m    884\u001b[0m     need_save \u001b[39m=\u001b[39m \u001b[39mFalse\u001b[39;00m\n\u001b[0;32m    885\u001b[0m \u001b[39melse\u001b[39;00m:\n\u001b[0;32m    886\u001b[0m     \u001b[39m# error: Cannot instantiate abstract class 'ExcelWriter' with abstract\u001b[39;00m\n\u001b[0;32m    887\u001b[0m     \u001b[39m# attributes 'engine', 'save', 'supported_extensions' and 'write_cells'\u001b[39;00m\n\u001b[1;32m--> 888\u001b[0m     writer \u001b[39m=\u001b[39m ExcelWriter(  \u001b[39m# type: ignore[abstract]\u001b[39;49;00m\n\u001b[0;32m    889\u001b[0m         writer, engine\u001b[39m=\u001b[39;49mengine, storage_options\u001b[39m=\u001b[39;49mstorage_options\n\u001b[0;32m    890\u001b[0m     )\n\u001b[0;32m    891\u001b[0m     need_save \u001b[39m=\u001b[39m \u001b[39mTrue\u001b[39;00m\n\u001b[0;32m    893\u001b[0m \u001b[39mtry\u001b[39;00m:\n",
      "File \u001b[1;32mc:\\Users\\alex7\\miniconda3\\envs\\tf\\lib\\site-packages\\pandas\\io\\excel\\_openpyxl.py:49\u001b[0m, in \u001b[0;36mOpenpyxlWriter.__init__\u001b[1;34m(self, path, engine, date_format, datetime_format, mode, storage_options, if_sheet_exists, engine_kwargs, **kwargs)\u001b[0m\n\u001b[0;32m     36\u001b[0m \u001b[39mdef\u001b[39;00m \u001b[39m__init__\u001b[39m(\n\u001b[0;32m     37\u001b[0m     \u001b[39mself\u001b[39m,\n\u001b[0;32m     38\u001b[0m     path,\n\u001b[1;32m   (...)\u001b[0m\n\u001b[0;32m     47\u001b[0m ):\n\u001b[0;32m     48\u001b[0m     \u001b[39m# Use the openpyxl module as the Excel writer.\u001b[39;00m\n\u001b[1;32m---> 49\u001b[0m     \u001b[39mfrom\u001b[39;00m \u001b[39mopenpyxl\u001b[39;00m\u001b[39m.\u001b[39;00m\u001b[39mworkbook\u001b[39;00m \u001b[39mimport\u001b[39;00m Workbook\n\u001b[0;32m     51\u001b[0m     engine_kwargs \u001b[39m=\u001b[39m combine_kwargs(engine_kwargs, kwargs)\n\u001b[0;32m     53\u001b[0m     \u001b[39msuper\u001b[39m()\u001b[39m.\u001b[39m\u001b[39m__init__\u001b[39m(\n\u001b[0;32m     54\u001b[0m         path,\n\u001b[0;32m     55\u001b[0m         mode\u001b[39m=\u001b[39mmode,\n\u001b[1;32m   (...)\u001b[0m\n\u001b[0;32m     58\u001b[0m         engine_kwargs\u001b[39m=\u001b[39mengine_kwargs,\n\u001b[0;32m     59\u001b[0m     )\n",
      "\u001b[1;31mModuleNotFoundError\u001b[0m: No module named 'openpyxl'"
     ]
    }
   ],
   "source": [
    "df_.to_excel('MtutkP.xlsx')"
   ]
  },
  {
   "cell_type": "code",
   "execution_count": 17,
   "metadata": {},
   "outputs": [],
   "source": [
    "df1 = pd.read_excel('Prolific Data Set.xlsx')"
   ]
  },
  {
   "cell_type": "code",
   "execution_count": 18,
   "metadata": {},
   "outputs": [
    {
     "data": {
      "text/html": [
       "<div>\n",
       "<style scoped>\n",
       "    .dataframe tbody tr th:only-of-type {\n",
       "        vertical-align: middle;\n",
       "    }\n",
       "\n",
       "    .dataframe tbody tr th {\n",
       "        vertical-align: top;\n",
       "    }\n",
       "\n",
       "    .dataframe thead th {\n",
       "        text-align: right;\n",
       "    }\n",
       "</style>\n",
       "<table border=\"1\" class=\"dataframe\">\n",
       "  <thead>\n",
       "    <tr style=\"text-align: right;\">\n",
       "      <th></th>\n",
       "      <th>WorkerId</th>\n",
       "      <th>Qualtrics_1</th>\n",
       "      <th>Qualtrics_2</th>\n",
       "      <th>Hit ID</th>\n",
       "      <th>Assignment ID</th>\n",
       "      <th>Time Spend</th>\n",
       "      <th>Image 1</th>\n",
       "      <th>Image 2</th>\n",
       "      <th>TID</th>\n",
       "      <th>Difficulty</th>\n",
       "      <th>Block Number</th>\n",
       "      <th>True Label</th>\n",
       "      <th>AI Label</th>\n",
       "      <th>Condition Type</th>\n",
       "      <th>Intervene</th>\n",
       "      <th>Last Decision</th>\n",
       "      <th>Final Decision</th>\n",
       "    </tr>\n",
       "  </thead>\n",
       "  <tbody>\n",
       "    <tr>\n",
       "      <th>0</th>\n",
       "      <td>5fb3d8382ceaab00087fadfc</td>\n",
       "      <td>947504</td>\n",
       "      <td>773564.0</td>\n",
       "      <td>_</td>\n",
       "      <td>_</td>\n",
       "      <td>22.847</td>\n",
       "      <td>n004201_0001_02.png</td>\n",
       "      <td>n004201_0008_01.png</td>\n",
       "      <td>4th</td>\n",
       "      <td>difficult match</td>\n",
       "      <td>1</td>\n",
       "      <td>same</td>\n",
       "      <td>0</td>\n",
       "      <td>pre-AI Judgment</td>\n",
       "      <td>True</td>\n",
       "      <td>same</td>\n",
       "      <td>different</td>\n",
       "    </tr>\n",
       "    <tr>\n",
       "      <th>1</th>\n",
       "      <td>5fb3d8382ceaab00087fadfc</td>\n",
       "      <td>947504</td>\n",
       "      <td>773564.0</td>\n",
       "      <td>_</td>\n",
       "      <td>_</td>\n",
       "      <td>2.742</td>\n",
       "      <td>0_n004220_0005_01.png</td>\n",
       "      <td>0_n004270_0004_02.png</td>\n",
       "      <td>4th</td>\n",
       "      <td>easy mismatch</td>\n",
       "      <td>2</td>\n",
       "      <td>same</td>\n",
       "      <td>1</td>\n",
       "      <td>pre-AI Judgment</td>\n",
       "      <td>True</td>\n",
       "      <td>same</td>\n",
       "      <td>different</td>\n",
       "    </tr>\n",
       "  </tbody>\n",
       "</table>\n",
       "</div>"
      ],
      "text/plain": [
       "                   WorkerId  Qualtrics_1  Qualtrics_2 Hit ID Assignment ID  \\\n",
       "0  5fb3d8382ceaab00087fadfc       947504     773564.0      _             _   \n",
       "1  5fb3d8382ceaab00087fadfc       947504     773564.0      _             _   \n",
       "\n",
       "   Time Spend                Image 1                Image 2  TID  \\\n",
       "0      22.847    n004201_0001_02.png    n004201_0008_01.png  4th   \n",
       "1       2.742  0_n004220_0005_01.png  0_n004270_0004_02.png  4th   \n",
       "\n",
       "        Difficulty  Block Number True Label AI Label   Condition Type  \\\n",
       "0  difficult match             1       same        0  pre-AI Judgment   \n",
       "1    easy mismatch             2       same        1  pre-AI Judgment   \n",
       "\n",
       "   Intervene Last Decision Final Decision  \n",
       "0       True          same      different  \n",
       "1       True          same      different  "
      ]
     },
     "execution_count": 18,
     "metadata": {},
     "output_type": "execute_result"
    }
   ],
   "source": [
    "df1.head(2)"
   ]
  },
  {
   "cell_type": "code",
   "execution_count": 19,
   "metadata": {},
   "outputs": [],
   "source": [
    "def label(a, b):\n",
    "    if a==b: \n",
    "        return 0 # correct\n",
    "    else:\n",
    "        return 1 # error"
   ]
  },
  {
   "cell_type": "code",
   "execution_count": 20,
   "metadata": {},
   "outputs": [],
   "source": [
    "def task(a):\n",
    "    if 'easy' in a:\n",
    "        return 'easy'\n",
    "    else:\n",
    "        return 'difficult'"
   ]
  },
  {
   "cell_type": "code",
   "execution_count": 21,
   "metadata": {},
   "outputs": [],
   "source": [
    "df1['error'] = df1.apply(lambda x: label(x['True Label'], x['Final Decision']), axis=1)"
   ]
  },
  {
   "cell_type": "code",
   "execution_count": 22,
   "metadata": {},
   "outputs": [],
   "source": [
    "df1['task'] = df1.apply(lambda x: task(x['Difficulty']), axis=1)"
   ]
  },
  {
   "cell_type": "code",
   "execution_count": 25,
   "metadata": {},
   "outputs": [
    {
     "data": {
      "text/html": [
       "<div>\n",
       "<style scoped>\n",
       "    .dataframe tbody tr th:only-of-type {\n",
       "        vertical-align: middle;\n",
       "    }\n",
       "\n",
       "    .dataframe tbody tr th {\n",
       "        vertical-align: top;\n",
       "    }\n",
       "\n",
       "    .dataframe thead th {\n",
       "        text-align: right;\n",
       "    }\n",
       "</style>\n",
       "<table border=\"1\" class=\"dataframe\">\n",
       "  <thead>\n",
       "    <tr style=\"text-align: right;\">\n",
       "      <th></th>\n",
       "      <th>Date</th>\n",
       "      <th>WorkerId</th>\n",
       "      <th>Qualtrics_1</th>\n",
       "      <th>Qualtrics_2</th>\n",
       "      <th>Hit ID</th>\n",
       "      <th>Assignment ID</th>\n",
       "      <th>Interaction Structure</th>\n",
       "      <th>Deferral Rate</th>\n",
       "      <th>Deferral Rate 2</th>\n",
       "      <th>Task difficulty 2</th>\n",
       "      <th>...</th>\n",
       "      <th>Completion Time</th>\n",
       "      <th>Log Time</th>\n",
       "      <th>Correct Prediction</th>\n",
       "      <th>AI Correct Prediction</th>\n",
       "      <th>Type of system error</th>\n",
       "      <th>Type of AI error</th>\n",
       "      <th>Last Decision Correct</th>\n",
       "      <th>Adopt Model Prediction</th>\n",
       "      <th>Coded Prediction</th>\n",
       "      <th>Model Adoption</th>\n",
       "    </tr>\n",
       "  </thead>\n",
       "  <tbody>\n",
       "    <tr>\n",
       "      <th>0</th>\n",
       "      <td>Wed Oct 27 00:13:42 PDT 2021</td>\n",
       "      <td>A3KX41BO16LNFI</td>\n",
       "      <td>253336</td>\n",
       "      <td>465779</td>\n",
       "      <td>3UUSLRKAUN5LXGEB5MAE2UFXSO0D7W</td>\n",
       "      <td>30OG32W0SWDIFRIS7Q7PTTFV21KENE</td>\n",
       "      <td>soft</td>\n",
       "      <td>25% Pre-AI</td>\n",
       "      <td>0.25</td>\n",
       "      <td>easy</td>\n",
       "      <td>...</td>\n",
       "      <td>2.4</td>\n",
       "      <td>0.875469</td>\n",
       "      <td>Correct</td>\n",
       "      <td>Correct</td>\n",
       "      <td>Correct</td>\n",
       "      <td>Correct</td>\n",
       "      <td>NaN</td>\n",
       "      <td>Adopt</td>\n",
       "      <td>1</td>\n",
       "      <td>Adopt</td>\n",
       "    </tr>\n",
       "  </tbody>\n",
       "</table>\n",
       "<p>1 rows × 39 columns</p>\n",
       "</div>"
      ],
      "text/plain": [
       "                           Date        WorkerId Qualtrics_1 Qualtrics_2  \\\n",
       "0  Wed Oct 27 00:13:42 PDT 2021  A3KX41BO16LNFI      253336      465779   \n",
       "\n",
       "                           Hit ID                   Assignment ID  \\\n",
       "0  3UUSLRKAUN5LXGEB5MAE2UFXSO0D7W  30OG32W0SWDIFRIS7Q7PTTFV21KENE   \n",
       "\n",
       "  Interaction Structure Deferral Rate  Deferral Rate 2 Task difficulty 2  ...  \\\n",
       "0                  soft    25% Pre-AI             0.25              easy  ...   \n",
       "\n",
       "  Completion Time  Log Time  Correct Prediction AI Correct Prediction  \\\n",
       "0             2.4  0.875469             Correct               Correct   \n",
       "\n",
       "  Type of system error  Type of AI error Last Decision Correct  \\\n",
       "0              Correct           Correct                   NaN   \n",
       "\n",
       "  Adopt Model Prediction Coded Prediction Model Adoption  \n",
       "0                  Adopt                1          Adopt  \n",
       "\n",
       "[1 rows x 39 columns]"
      ]
     },
     "execution_count": 25,
     "metadata": {},
     "output_type": "execute_result"
    }
   ],
   "source": [
    "df.head(1)"
   ]
  },
  {
   "cell_type": "code",
   "execution_count": 23,
   "metadata": {},
   "outputs": [
    {
     "data": {
      "text/html": [
       "<div>\n",
       "<style scoped>\n",
       "    .dataframe tbody tr th:only-of-type {\n",
       "        vertical-align: middle;\n",
       "    }\n",
       "\n",
       "    .dataframe tbody tr th {\n",
       "        vertical-align: top;\n",
       "    }\n",
       "\n",
       "    .dataframe thead th {\n",
       "        text-align: right;\n",
       "    }\n",
       "</style>\n",
       "<table border=\"1\" class=\"dataframe\">\n",
       "  <thead>\n",
       "    <tr style=\"text-align: right;\">\n",
       "      <th></th>\n",
       "      <th>WorkerId</th>\n",
       "      <th>Qualtrics_1</th>\n",
       "      <th>Qualtrics_2</th>\n",
       "      <th>Hit ID</th>\n",
       "      <th>Assignment ID</th>\n",
       "      <th>Time Spend</th>\n",
       "      <th>Image 1</th>\n",
       "      <th>Image 2</th>\n",
       "      <th>TID</th>\n",
       "      <th>Difficulty</th>\n",
       "      <th>Block Number</th>\n",
       "      <th>True Label</th>\n",
       "      <th>AI Label</th>\n",
       "      <th>Condition Type</th>\n",
       "      <th>Intervene</th>\n",
       "      <th>Last Decision</th>\n",
       "      <th>Final Decision</th>\n",
       "      <th>error</th>\n",
       "      <th>task</th>\n",
       "    </tr>\n",
       "  </thead>\n",
       "  <tbody>\n",
       "    <tr>\n",
       "      <th>0</th>\n",
       "      <td>5fb3d8382ceaab00087fadfc</td>\n",
       "      <td>947504</td>\n",
       "      <td>773564.0</td>\n",
       "      <td>_</td>\n",
       "      <td>_</td>\n",
       "      <td>22.847</td>\n",
       "      <td>n004201_0001_02.png</td>\n",
       "      <td>n004201_0008_01.png</td>\n",
       "      <td>4th</td>\n",
       "      <td>difficult match</td>\n",
       "      <td>1</td>\n",
       "      <td>same</td>\n",
       "      <td>0</td>\n",
       "      <td>pre-AI Judgment</td>\n",
       "      <td>True</td>\n",
       "      <td>same</td>\n",
       "      <td>different</td>\n",
       "      <td>1</td>\n",
       "      <td>difficult</td>\n",
       "    </tr>\n",
       "  </tbody>\n",
       "</table>\n",
       "</div>"
      ],
      "text/plain": [
       "                   WorkerId  Qualtrics_1  Qualtrics_2 Hit ID Assignment ID  \\\n",
       "0  5fb3d8382ceaab00087fadfc       947504     773564.0      _             _   \n",
       "\n",
       "   Time Spend              Image 1              Image 2  TID       Difficulty  \\\n",
       "0      22.847  n004201_0001_02.png  n004201_0008_01.png  4th  difficult match   \n",
       "\n",
       "   Block Number True Label AI Label   Condition Type  Intervene Last Decision  \\\n",
       "0             1       same        0  pre-AI Judgment       True          same   \n",
       "\n",
       "  Final Decision  error       task  \n",
       "0      different      1  difficult  "
      ]
     },
     "execution_count": 23,
     "metadata": {},
     "output_type": "execute_result"
    }
   ],
   "source": [
    "df1.head(1)"
   ]
  },
  {
   "cell_type": "code",
   "execution_count": 31,
   "metadata": {},
   "outputs": [
    {
     "data": {
      "text/plain": [
       "Index(['Date', 'WorkerId', 'Qualtrics_1', 'Qualtrics_2', 'Hit ID',\n",
       "       'Assignment ID', 'Interaction Structure', 'Deferral Rate',\n",
       "       'Deferral Rate 2', 'Task difficulty 2', 'Task difficulty', 'Condition',\n",
       "       'Block', 'Condition Type', 'Class', 'TID', 'DB Name', 'Image 1',\n",
       "       'Image 2', 'Source', 'True Label', 'AI Label', 'Intervene',\n",
       "       'Last Decision', 'Final Decision', 'Gender', 'Time', 'Time Char',\n",
       "       'Time Char 2', 'Completion Time', 'Log Time', 'Correct Prediction',\n",
       "       'AI Correct Prediction', 'Type of system error', 'Type of AI error',\n",
       "       'Last Decision Correct', 'Adopt Model Prediction', 'Coded Prediction',\n",
       "       'Model Adoption'],\n",
       "      dtype='object')"
      ]
     },
     "execution_count": 31,
     "metadata": {},
     "output_type": "execute_result"
    }
   ],
   "source": [
    "df.columns"
   ]
  },
  {
   "cell_type": "code",
   "execution_count": 26,
   "metadata": {},
   "outputs": [],
   "source": [
    "from sklearn.metrics import f1_score\n",
    "from sklearn.metrics import accuracy_score"
   ]
  },
  {
   "cell_type": "code",
   "execution_count": 27,
   "metadata": {},
   "outputs": [
    {
     "data": {
      "text/plain": [
       "0            same\n",
       "1            same\n",
       "2            same\n",
       "3            same\n",
       "4       different\n",
       "          ...    \n",
       "9933         same\n",
       "9934    different\n",
       "9935         same\n",
       "9936    different\n",
       "9937         same\n",
       "Name: True Label, Length: 9938, dtype: object"
      ]
     },
     "execution_count": 27,
     "metadata": {},
     "output_type": "execute_result"
    }
   ],
   "source": [
    "df1['True Label']"
   ]
  },
  {
   "cell_type": "code",
   "execution_count": 28,
   "metadata": {},
   "outputs": [
    {
     "data": {
      "text/plain": [
       "0.6070637955323003"
      ]
     },
     "execution_count": 28,
     "metadata": {},
     "output_type": "execute_result"
    }
   ],
   "source": [
    "accuracy_score(df1['True Label'], df1['Final Decision'])"
   ]
  },
  {
   "cell_type": "code",
   "execution_count": 32,
   "metadata": {},
   "outputs": [
    {
     "data": {
      "text/plain": [
       "0.7481331168831169"
      ]
     },
     "execution_count": 32,
     "metadata": {},
     "output_type": "execute_result"
    }
   ],
   "source": [
    "accuracy_score(df['True Label'], df['Final Decision'])"
   ]
  },
  {
   "cell_type": "code",
   "execution_count": 35,
   "metadata": {},
   "outputs": [
    {
     "data": {
      "text/plain": [
       "0.6664388827197403"
      ]
     },
     "execution_count": 35,
     "metadata": {},
     "output_type": "execute_result"
    }
   ],
   "source": [
    "f1_score(df1['True Label'], df1['Final Decision'],pos_label='same')"
   ]
  },
  {
   "cell_type": "code",
   "execution_count": 36,
   "metadata": {},
   "outputs": [
    {
     "data": {
      "text/plain": [
       "0.7434052757793764"
      ]
     },
     "execution_count": 36,
     "metadata": {},
     "output_type": "execute_result"
    }
   ],
   "source": [
    "f1_score(df['True Label'], df['Final Decision'],pos_label='same')"
   ]
  },
  {
   "cell_type": "code",
   "execution_count": 37,
   "metadata": {},
   "outputs": [],
   "source": [
    "df2 = pd.read_csv('MturkAnnot.csv')"
   ]
  },
  {
   "cell_type": "code",
   "execution_count": 38,
   "metadata": {},
   "outputs": [
    {
     "data": {
      "text/html": [
       "<div>\n",
       "<style scoped>\n",
       "    .dataframe tbody tr th:only-of-type {\n",
       "        vertical-align: middle;\n",
       "    }\n",
       "\n",
       "    .dataframe tbody tr th {\n",
       "        vertical-align: top;\n",
       "    }\n",
       "\n",
       "    .dataframe thead th {\n",
       "        text-align: right;\n",
       "    }\n",
       "</style>\n",
       "<table border=\"1\" class=\"dataframe\">\n",
       "  <thead>\n",
       "    <tr style=\"text-align: right;\">\n",
       "      <th></th>\n",
       "      <th>Pair_ind</th>\n",
       "      <th>Image Name 1</th>\n",
       "      <th>Image Name 2</th>\n",
       "      <th>Ground Truth</th>\n",
       "      <th>Worker Id</th>\n",
       "      <th>Task ID</th>\n",
       "      <th>Quiz-Q1</th>\n",
       "      <th>Quiz-Q2</th>\n",
       "      <th>Quiz-Q3</th>\n",
       "      <th>Source</th>\n",
       "      <th>...</th>\n",
       "      <th>AI 2</th>\n",
       "      <th>AI 3</th>\n",
       "      <th>Human</th>\n",
       "      <th>Human 2</th>\n",
       "      <th>AI Proportion Incorrect</th>\n",
       "      <th>AI 1 Correct Coded</th>\n",
       "      <th>AI 2 Correct Coded</th>\n",
       "      <th>AI 3 Correct Coded</th>\n",
       "      <th>Sum</th>\n",
       "      <th>AI Proportion Incorrect 2</th>\n",
       "    </tr>\n",
       "  </thead>\n",
       "  <tbody>\n",
       "    <tr>\n",
       "      <th>0</th>\n",
       "      <td>1</td>\n",
       "      <td>0_n008341_0001_01.png</td>\n",
       "      <td>0_n008760_0002_01.png</td>\n",
       "      <td>Different</td>\n",
       "      <td>A2QRIJVRFJD4C5</td>\n",
       "      <td>1</td>\n",
       "      <td>NaN</td>\n",
       "      <td>NaN</td>\n",
       "      <td>NaN</td>\n",
       "      <td>Pilot</td>\n",
       "      <td>...</td>\n",
       "      <td>Correct</td>\n",
       "      <td>Correct</td>\n",
       "      <td>Correct</td>\n",
       "      <td>Correct</td>\n",
       "      <td>0.0</td>\n",
       "      <td>1</td>\n",
       "      <td>1</td>\n",
       "      <td>1</td>\n",
       "      <td>3</td>\n",
       "      <td>0.0</td>\n",
       "    </tr>\n",
       "  </tbody>\n",
       "</table>\n",
       "<p>1 rows × 57 columns</p>\n",
       "</div>"
      ],
      "text/plain": [
       "   Pair_ind           Image Name 1           Image Name 2 Ground Truth  \\\n",
       "0         1  0_n008341_0001_01.png  0_n008760_0002_01.png    Different   \n",
       "\n",
       "        Worker Id  Task ID  Quiz-Q1  Quiz-Q2  Quiz-Q3 Source  ...     AI 2  \\\n",
       "0  A2QRIJVRFJD4C5        1      NaN      NaN      NaN  Pilot  ...  Correct   \n",
       "\n",
       "      AI 3    Human  Human 2 AI Proportion Incorrect AI 1 Correct Coded  \\\n",
       "0  Correct  Correct  Correct                     0.0                  1   \n",
       "\n",
       "  AI 2 Correct Coded AI 3 Correct Coded Sum AI Proportion Incorrect 2  \n",
       "0                  1                  1   3                       0.0  \n",
       "\n",
       "[1 rows x 57 columns]"
      ]
     },
     "execution_count": 38,
     "metadata": {},
     "output_type": "execute_result"
    }
   ],
   "source": [
    "df2.head(1)"
   ]
  },
  {
   "cell_type": "code",
   "execution_count": 39,
   "metadata": {},
   "outputs": [
    {
     "data": {
      "text/plain": [
       "Pair_ind                         0\n",
       "Image Name 1                     0\n",
       "Image Name 2                     0\n",
       "Ground Truth                     0\n",
       "Worker Id                        0\n",
       "Task ID                          0\n",
       "Quiz-Q1                      35540\n",
       "Quiz-Q2                      35540\n",
       "Quiz-Q3                      35540\n",
       "Source                           0\n",
       "pred 1                           0\n",
       "pred 2                           0\n",
       "pred 3                           0\n",
       "pred Human                     824\n",
       "Age                              0\n",
       "Color                            0\n",
       "Hair                             0\n",
       "Gender Same                      0\n",
       "Race Same                        0\n",
       "Exp Same                         0\n",
       "Rotation Same                    0\n",
       "Gender Type                      0\n",
       "Race Type                        0\n",
       "Exp Type                         0\n",
       "Rotation Type                    0\n",
       "Occ                              0\n",
       "Makeup                           0\n",
       "Illumination                     0\n",
       "Quality                          0\n",
       "Gender 1                         0\n",
       "Gender 2                         0\n",
       "Race 1                           0\n",
       "Race 2                           0\n",
       "Exp 1                            0\n",
       "Exp 2                            0\n",
       "Occlusion 1                      0\n",
       "Occlusion 2                      0\n",
       "Head Rotate 1                    0\n",
       "Head Rotate 2                    0\n",
       "Illumination 1                   0\n",
       "Illumination 2                   0\n",
       "Makeup 1                         0\n",
       "Makeup 2                         0\n",
       "Quality 1                        0\n",
       "Quality 2                        0\n",
       "Ground Truth Coded               0\n",
       "AI 1                             0\n",
       "AI 2                             0\n",
       "AI 3                             0\n",
       "Human                          824\n",
       "Human 2                          0\n",
       "AI Proportion Incorrect          0\n",
       "AI 1 Correct Coded               0\n",
       "AI 2 Correct Coded               0\n",
       "AI 3 Correct Coded               0\n",
       "Sum                              0\n",
       "AI Proportion Incorrect 2        0\n",
       "dtype: int64"
      ]
     },
     "execution_count": 39,
     "metadata": {},
     "output_type": "execute_result"
    }
   ],
   "source": [
    "df2.isna().sum()"
   ]
  },
  {
   "cell_type": "code",
   "execution_count": 50,
   "metadata": {},
   "outputs": [],
   "source": [
    "df2 = df2.drop(columns=['Quiz-Q1', 'Quiz-Q2', 'Quiz-Q3']).dropna()"
   ]
  },
  {
   "cell_type": "code",
   "execution_count": 52,
   "metadata": {},
   "outputs": [
    {
     "data": {
      "text/plain": [
       "0.6840649844452126"
      ]
     },
     "execution_count": 52,
     "metadata": {},
     "output_type": "execute_result"
    }
   ],
   "source": [
    "accuracy_score(df2['Ground Truth Coded'], df2['pred Human'])"
   ]
  },
  {
   "cell_type": "code",
   "execution_count": 54,
   "metadata": {},
   "outputs": [
    {
     "data": {
      "text/plain": [
       "0.7117628508356985"
      ]
     },
     "execution_count": 54,
     "metadata": {},
     "output_type": "execute_result"
    }
   ],
   "source": [
    "f1_score(df2['Ground Truth Coded'], df2['pred Human'])"
   ]
  },
  {
   "cell_type": "code",
   "execution_count": null,
   "metadata": {},
   "outputs": [],
   "source": []
  },
  {
   "cell_type": "code",
   "execution_count": null,
   "metadata": {},
   "outputs": [],
   "source": []
  },
  {
   "cell_type": "code",
   "execution_count": null,
   "metadata": {},
   "outputs": [],
   "source": []
  },
  {
   "cell_type": "code",
   "execution_count": 46,
   "metadata": {},
   "outputs": [],
   "source": [
    "df1.to_excel('Prolific.xlsx')"
   ]
  },
  {
   "cell_type": "code",
   "execution_count": 48,
   "metadata": {},
   "outputs": [],
   "source": [
    "from sklearn.linear_model import LogisticRegression\n",
    "from sklearn.metrics import classification_report"
   ]
  },
  {
   "cell_type": "code",
   "execution_count": 50,
   "metadata": {},
   "outputs": [
    {
     "data": {
      "text/html": [
       "<div>\n",
       "<style scoped>\n",
       "    .dataframe tbody tr th:only-of-type {\n",
       "        vertical-align: middle;\n",
       "    }\n",
       "\n",
       "    .dataframe tbody tr th {\n",
       "        vertical-align: top;\n",
       "    }\n",
       "\n",
       "    .dataframe thead th {\n",
       "        text-align: right;\n",
       "    }\n",
       "</style>\n",
       "<table border=\"1\" class=\"dataframe\">\n",
       "  <thead>\n",
       "    <tr style=\"text-align: right;\">\n",
       "      <th></th>\n",
       "      <th>WorkerId</th>\n",
       "      <th>Assignment ID</th>\n",
       "      <th>Interaction Structure</th>\n",
       "      <th>Deferral Rate</th>\n",
       "      <th>Task difficulty</th>\n",
       "      <th>Class</th>\n",
       "      <th>TID</th>\n",
       "      <th>True Label</th>\n",
       "      <th>Completion Time</th>\n",
       "      <th>Correct Prediction</th>\n",
       "      <th>AI Correct Prediction</th>\n",
       "      <th>Type of system error</th>\n",
       "      <th>Type of AI error</th>\n",
       "      <th>Last Decision Correct</th>\n",
       "      <th>Model Adoption</th>\n",
       "    </tr>\n",
       "  </thead>\n",
       "  <tbody>\n",
       "    <tr>\n",
       "      <th>0</th>\n",
       "      <td>A3KX41BO16LNFI</td>\n",
       "      <td>30OG32W0SWDIFRIS7Q7PTTFV21KENE</td>\n",
       "      <td>soft</td>\n",
       "      <td>25% Pre-AI</td>\n",
       "      <td>easy</td>\n",
       "      <td>easy match</td>\n",
       "      <td>1024</td>\n",
       "      <td>same</td>\n",
       "      <td>2.4</td>\n",
       "      <td>Correct</td>\n",
       "      <td>Correct</td>\n",
       "      <td>Correct</td>\n",
       "      <td>Correct</td>\n",
       "      <td>NaN</td>\n",
       "      <td>Adopt</td>\n",
       "    </tr>\n",
       "    <tr>\n",
       "      <th>1</th>\n",
       "      <td>A3KX41BO16LNFI</td>\n",
       "      <td>30OG32W0SWDIFRIS7Q7PTTFV21KENE</td>\n",
       "      <td>soft</td>\n",
       "      <td>25% Pre-AI</td>\n",
       "      <td>easy</td>\n",
       "      <td>easy match</td>\n",
       "      <td>1025</td>\n",
       "      <td>same</td>\n",
       "      <td>2.0</td>\n",
       "      <td>Correct</td>\n",
       "      <td>Correct</td>\n",
       "      <td>Correct</td>\n",
       "      <td>Correct</td>\n",
       "      <td>NaN</td>\n",
       "      <td>Adopt</td>\n",
       "    </tr>\n",
       "    <tr>\n",
       "      <th>2</th>\n",
       "      <td>A3KX41BO16LNFI</td>\n",
       "      <td>30OG32W0SWDIFRIS7Q7PTTFV21KENE</td>\n",
       "      <td>soft</td>\n",
       "      <td>25% Pre-AI</td>\n",
       "      <td>easy</td>\n",
       "      <td>easy mismatch</td>\n",
       "      <td>793</td>\n",
       "      <td>different</td>\n",
       "      <td>2.0</td>\n",
       "      <td>Correct</td>\n",
       "      <td>Correct</td>\n",
       "      <td>Correct</td>\n",
       "      <td>Correct</td>\n",
       "      <td>NaN</td>\n",
       "      <td>Adopt</td>\n",
       "    </tr>\n",
       "    <tr>\n",
       "      <th>3</th>\n",
       "      <td>A3KX41BO16LNFI</td>\n",
       "      <td>30OG32W0SWDIFRIS7Q7PTTFV21KENE</td>\n",
       "      <td>soft</td>\n",
       "      <td>25% Pre-AI</td>\n",
       "      <td>easy</td>\n",
       "      <td>easy mismatch</td>\n",
       "      <td>1403</td>\n",
       "      <td>different</td>\n",
       "      <td>5.4</td>\n",
       "      <td>Error</td>\n",
       "      <td>Correct</td>\n",
       "      <td>false negative</td>\n",
       "      <td>Correct</td>\n",
       "      <td>NaN</td>\n",
       "      <td>Reject</td>\n",
       "    </tr>\n",
       "    <tr>\n",
       "      <th>4</th>\n",
       "      <td>A3KX41BO16LNFI</td>\n",
       "      <td>30OG32W0SWDIFRIS7Q7PTTFV21KENE</td>\n",
       "      <td>soft</td>\n",
       "      <td>25% Pre-AI</td>\n",
       "      <td>easy</td>\n",
       "      <td>easy mismatch</td>\n",
       "      <td>1404</td>\n",
       "      <td>different</td>\n",
       "      <td>14.0</td>\n",
       "      <td>Correct</td>\n",
       "      <td>Error</td>\n",
       "      <td>Correct</td>\n",
       "      <td>false negative</td>\n",
       "      <td>NaN</td>\n",
       "      <td>Reject</td>\n",
       "    </tr>\n",
       "  </tbody>\n",
       "</table>\n",
       "</div>"
      ],
      "text/plain": [
       "         WorkerId                   Assignment ID Interaction Structure  \\\n",
       "0  A3KX41BO16LNFI  30OG32W0SWDIFRIS7Q7PTTFV21KENE                  soft   \n",
       "1  A3KX41BO16LNFI  30OG32W0SWDIFRIS7Q7PTTFV21KENE                  soft   \n",
       "2  A3KX41BO16LNFI  30OG32W0SWDIFRIS7Q7PTTFV21KENE                  soft   \n",
       "3  A3KX41BO16LNFI  30OG32W0SWDIFRIS7Q7PTTFV21KENE                  soft   \n",
       "4  A3KX41BO16LNFI  30OG32W0SWDIFRIS7Q7PTTFV21KENE                  soft   \n",
       "\n",
       "  Deferral Rate Task difficulty          Class   TID True Label  \\\n",
       "0    25% Pre-AI            easy     easy match  1024       same   \n",
       "1    25% Pre-AI            easy     easy match  1025       same   \n",
       "2    25% Pre-AI            easy  easy mismatch   793  different   \n",
       "3    25% Pre-AI            easy  easy mismatch  1403  different   \n",
       "4    25% Pre-AI            easy  easy mismatch  1404  different   \n",
       "\n",
       "   Completion Time Correct Prediction AI Correct Prediction  \\\n",
       "0              2.4            Correct               Correct   \n",
       "1              2.0            Correct               Correct   \n",
       "2              2.0            Correct               Correct   \n",
       "3              5.4              Error               Correct   \n",
       "4             14.0            Correct                 Error   \n",
       "\n",
       "  Type of system error Type of AI error Last Decision Correct Model Adoption  \n",
       "0              Correct          Correct                   NaN          Adopt  \n",
       "1              Correct          Correct                   NaN          Adopt  \n",
       "2              Correct          Correct                   NaN          Adopt  \n",
       "3       false negative          Correct                   NaN         Reject  \n",
       "4              Correct   false negative                   NaN         Reject  "
      ]
     },
     "execution_count": 50,
     "metadata": {},
     "output_type": "execute_result"
    }
   ],
   "source": [
    "df_.head()"
   ]
  },
  {
   "cell_type": "code",
   "execution_count": 51,
   "metadata": {},
   "outputs": [
    {
     "data": {
      "text/plain": [
       "Index(['WorkerId', 'Assignment ID', 'Interaction Structure', 'Deferral Rate',\n",
       "       'Task difficulty', 'Class', 'TID', 'True Label', 'Completion Time',\n",
       "       'Correct Prediction', 'AI Correct Prediction', 'Type of system error',\n",
       "       'Type of AI error', 'Last Decision Correct', 'Model Adoption'],\n",
       "      dtype='object')"
      ]
     },
     "execution_count": 51,
     "metadata": {},
     "output_type": "execute_result"
    }
   ],
   "source": [
    "df_.columns"
   ]
  },
  {
   "cell_type": "code",
   "execution_count": 53,
   "metadata": {},
   "outputs": [],
   "source": [
    "X_ = df_[['Interaction Structure', 'Deferral Rate',\n",
    "       'Task difficulty','Completion Time']]"
   ]
  },
  {
   "cell_type": "code",
   "execution_count": 52,
   "metadata": {},
   "outputs": [],
   "source": [
    "y_ = df_['Correct Prediction']"
   ]
  },
  {
   "cell_type": "code",
   "execution_count": 55,
   "metadata": {},
   "outputs": [],
   "source": [
    "import numpy as np"
   ]
  },
  {
   "cell_type": "code",
   "execution_count": 56,
   "metadata": {},
   "outputs": [],
   "source": [
    "X = X_.to_numpy()"
   ]
  },
  {
   "cell_type": "code",
   "execution_count": 58,
   "metadata": {},
   "outputs": [
    {
     "data": {
      "text/plain": [
       "array([['soft', '25% Pre-AI', 'easy', 2.4],\n",
       "       ['soft', '25% Pre-AI', 'easy', 2.0],\n",
       "       ['soft', '25% Pre-AI', 'easy', 2.0],\n",
       "       ...,\n",
       "       ['Pre-AI 3', '75% Pre-AI', 'difficult', 6.6],\n",
       "       ['Pre-AI 3', '75% Pre-AI', 'easy', 3.9],\n",
       "       ['Pre-AI 3', '75% Pre-AI', 'difficult', 6.3]], dtype=object)"
      ]
     },
     "execution_count": 58,
     "metadata": {},
     "output_type": "execute_result"
    }
   ],
   "source": [
    "X"
   ]
  },
  {
   "cell_type": "code",
   "execution_count": 57,
   "metadata": {},
   "outputs": [
    {
     "ename": "ValueError",
     "evalue": "could not convert string to float: 'soft'",
     "output_type": "error",
     "traceback": [
      "\u001b[1;31m---------------------------------------------------------------------------\u001b[0m",
      "\u001b[1;31mValueError\u001b[0m                                Traceback (most recent call last)",
      "\u001b[1;32mc:\\Users\\alex7\\Dropbox (ASU)\\Code\\8.3\\preprocess.ipynb Cell 32\u001b[0m in \u001b[0;36m<cell line: 2>\u001b[1;34m()\u001b[0m\n\u001b[0;32m      <a href='vscode-notebook-cell:/c%3A/Users/alex7/Dropbox%20%28ASU%29/Code/8.3/preprocess.ipynb#ch0000029?line=0'>1</a>\u001b[0m lr1 \u001b[39m=\u001b[39m LogisticRegression(random_state\u001b[39m=\u001b[39m\u001b[39m422\u001b[39m, penalty\u001b[39m=\u001b[39m\u001b[39m'\u001b[39m\u001b[39ml1\u001b[39m\u001b[39m'\u001b[39m, solver\u001b[39m=\u001b[39m\u001b[39m'\u001b[39m\u001b[39mliblinear\u001b[39m\u001b[39m'\u001b[39m)\n\u001b[1;32m----> <a href='vscode-notebook-cell:/c%3A/Users/alex7/Dropbox%20%28ASU%29/Code/8.3/preprocess.ipynb#ch0000029?line=1'>2</a>\u001b[0m lr1\u001b[39m.\u001b[39;49mfit(X, y_)\n",
      "File \u001b[1;32mc:\\Users\\alex7\\miniconda3\\envs\\tf\\lib\\site-packages\\sklearn\\linear_model\\_logistic.py:1138\u001b[0m, in \u001b[0;36mLogisticRegression.fit\u001b[1;34m(self, X, y, sample_weight)\u001b[0m\n\u001b[0;32m   1135\u001b[0m \u001b[39melse\u001b[39;00m:\n\u001b[0;32m   1136\u001b[0m     _dtype \u001b[39m=\u001b[39m [np\u001b[39m.\u001b[39mfloat64, np\u001b[39m.\u001b[39mfloat32]\n\u001b[1;32m-> 1138\u001b[0m X, y \u001b[39m=\u001b[39m \u001b[39mself\u001b[39;49m\u001b[39m.\u001b[39;49m_validate_data(\n\u001b[0;32m   1139\u001b[0m     X,\n\u001b[0;32m   1140\u001b[0m     y,\n\u001b[0;32m   1141\u001b[0m     accept_sparse\u001b[39m=\u001b[39;49m\u001b[39m\"\u001b[39;49m\u001b[39mcsr\u001b[39;49m\u001b[39m\"\u001b[39;49m,\n\u001b[0;32m   1142\u001b[0m     dtype\u001b[39m=\u001b[39;49m_dtype,\n\u001b[0;32m   1143\u001b[0m     order\u001b[39m=\u001b[39;49m\u001b[39m\"\u001b[39;49m\u001b[39mC\u001b[39;49m\u001b[39m\"\u001b[39;49m,\n\u001b[0;32m   1144\u001b[0m     accept_large_sparse\u001b[39m=\u001b[39;49msolver \u001b[39mnot\u001b[39;49;00m \u001b[39min\u001b[39;49;00m [\u001b[39m\"\u001b[39;49m\u001b[39mliblinear\u001b[39;49m\u001b[39m\"\u001b[39;49m, \u001b[39m\"\u001b[39;49m\u001b[39msag\u001b[39;49m\u001b[39m\"\u001b[39;49m, \u001b[39m\"\u001b[39;49m\u001b[39msaga\u001b[39;49m\u001b[39m\"\u001b[39;49m],\n\u001b[0;32m   1145\u001b[0m )\n\u001b[0;32m   1146\u001b[0m check_classification_targets(y)\n\u001b[0;32m   1147\u001b[0m \u001b[39mself\u001b[39m\u001b[39m.\u001b[39mclasses_ \u001b[39m=\u001b[39m np\u001b[39m.\u001b[39munique(y)\n",
      "File \u001b[1;32mc:\\Users\\alex7\\miniconda3\\envs\\tf\\lib\\site-packages\\sklearn\\base.py:596\u001b[0m, in \u001b[0;36mBaseEstimator._validate_data\u001b[1;34m(self, X, y, reset, validate_separately, **check_params)\u001b[0m\n\u001b[0;32m    594\u001b[0m         y \u001b[39m=\u001b[39m check_array(y, input_name\u001b[39m=\u001b[39m\u001b[39m\"\u001b[39m\u001b[39my\u001b[39m\u001b[39m\"\u001b[39m, \u001b[39m*\u001b[39m\u001b[39m*\u001b[39mcheck_y_params)\n\u001b[0;32m    595\u001b[0m     \u001b[39melse\u001b[39;00m:\n\u001b[1;32m--> 596\u001b[0m         X, y \u001b[39m=\u001b[39m check_X_y(X, y, \u001b[39m*\u001b[39m\u001b[39m*\u001b[39mcheck_params)\n\u001b[0;32m    597\u001b[0m     out \u001b[39m=\u001b[39m X, y\n\u001b[0;32m    599\u001b[0m \u001b[39mif\u001b[39;00m \u001b[39mnot\u001b[39;00m no_val_X \u001b[39mand\u001b[39;00m check_params\u001b[39m.\u001b[39mget(\u001b[39m\"\u001b[39m\u001b[39mensure_2d\u001b[39m\u001b[39m\"\u001b[39m, \u001b[39mTrue\u001b[39;00m):\n",
      "File \u001b[1;32mc:\\Users\\alex7\\miniconda3\\envs\\tf\\lib\\site-packages\\sklearn\\utils\\validation.py:1074\u001b[0m, in \u001b[0;36mcheck_X_y\u001b[1;34m(X, y, accept_sparse, accept_large_sparse, dtype, order, copy, force_all_finite, ensure_2d, allow_nd, multi_output, ensure_min_samples, ensure_min_features, y_numeric, estimator)\u001b[0m\n\u001b[0;32m   1069\u001b[0m         estimator_name \u001b[39m=\u001b[39m _check_estimator_name(estimator)\n\u001b[0;32m   1070\u001b[0m     \u001b[39mraise\u001b[39;00m \u001b[39mValueError\u001b[39;00m(\n\u001b[0;32m   1071\u001b[0m         \u001b[39mf\u001b[39m\u001b[39m\"\u001b[39m\u001b[39m{\u001b[39;00mestimator_name\u001b[39m}\u001b[39;00m\u001b[39m requires y to be passed, but the target y is None\u001b[39m\u001b[39m\"\u001b[39m\n\u001b[0;32m   1072\u001b[0m     )\n\u001b[1;32m-> 1074\u001b[0m X \u001b[39m=\u001b[39m check_array(\n\u001b[0;32m   1075\u001b[0m     X,\n\u001b[0;32m   1076\u001b[0m     accept_sparse\u001b[39m=\u001b[39;49maccept_sparse,\n\u001b[0;32m   1077\u001b[0m     accept_large_sparse\u001b[39m=\u001b[39;49maccept_large_sparse,\n\u001b[0;32m   1078\u001b[0m     dtype\u001b[39m=\u001b[39;49mdtype,\n\u001b[0;32m   1079\u001b[0m     order\u001b[39m=\u001b[39;49morder,\n\u001b[0;32m   1080\u001b[0m     copy\u001b[39m=\u001b[39;49mcopy,\n\u001b[0;32m   1081\u001b[0m     force_all_finite\u001b[39m=\u001b[39;49mforce_all_finite,\n\u001b[0;32m   1082\u001b[0m     ensure_2d\u001b[39m=\u001b[39;49mensure_2d,\n\u001b[0;32m   1083\u001b[0m     allow_nd\u001b[39m=\u001b[39;49mallow_nd,\n\u001b[0;32m   1084\u001b[0m     ensure_min_samples\u001b[39m=\u001b[39;49mensure_min_samples,\n\u001b[0;32m   1085\u001b[0m     ensure_min_features\u001b[39m=\u001b[39;49mensure_min_features,\n\u001b[0;32m   1086\u001b[0m     estimator\u001b[39m=\u001b[39;49mestimator,\n\u001b[0;32m   1087\u001b[0m     input_name\u001b[39m=\u001b[39;49m\u001b[39m\"\u001b[39;49m\u001b[39mX\u001b[39;49m\u001b[39m\"\u001b[39;49m,\n\u001b[0;32m   1088\u001b[0m )\n\u001b[0;32m   1090\u001b[0m y \u001b[39m=\u001b[39m _check_y(y, multi_output\u001b[39m=\u001b[39mmulti_output, y_numeric\u001b[39m=\u001b[39my_numeric, estimator\u001b[39m=\u001b[39mestimator)\n\u001b[0;32m   1092\u001b[0m check_consistent_length(X, y)\n",
      "File \u001b[1;32mc:\\Users\\alex7\\miniconda3\\envs\\tf\\lib\\site-packages\\sklearn\\utils\\validation.py:856\u001b[0m, in \u001b[0;36mcheck_array\u001b[1;34m(array, accept_sparse, accept_large_sparse, dtype, order, copy, force_all_finite, ensure_2d, allow_nd, ensure_min_samples, ensure_min_features, estimator, input_name)\u001b[0m\n\u001b[0;32m    854\u001b[0m         array \u001b[39m=\u001b[39m array\u001b[39m.\u001b[39mastype(dtype, casting\u001b[39m=\u001b[39m\u001b[39m\"\u001b[39m\u001b[39munsafe\u001b[39m\u001b[39m\"\u001b[39m, copy\u001b[39m=\u001b[39m\u001b[39mFalse\u001b[39;00m)\n\u001b[0;32m    855\u001b[0m     \u001b[39melse\u001b[39;00m:\n\u001b[1;32m--> 856\u001b[0m         array \u001b[39m=\u001b[39m np\u001b[39m.\u001b[39;49masarray(array, order\u001b[39m=\u001b[39;49morder, dtype\u001b[39m=\u001b[39;49mdtype)\n\u001b[0;32m    857\u001b[0m \u001b[39mexcept\u001b[39;00m ComplexWarning \u001b[39mas\u001b[39;00m complex_warning:\n\u001b[0;32m    858\u001b[0m     \u001b[39mraise\u001b[39;00m \u001b[39mValueError\u001b[39;00m(\n\u001b[0;32m    859\u001b[0m         \u001b[39m\"\u001b[39m\u001b[39mComplex data not supported\u001b[39m\u001b[39m\\n\u001b[39;00m\u001b[39m{}\u001b[39;00m\u001b[39m\\n\u001b[39;00m\u001b[39m\"\u001b[39m\u001b[39m.\u001b[39mformat(array)\n\u001b[0;32m    860\u001b[0m     ) \u001b[39mfrom\u001b[39;00m \u001b[39mcomplex_warning\u001b[39;00m\n",
      "\u001b[1;31mValueError\u001b[0m: could not convert string to float: 'soft'"
     ]
    }
   ],
   "source": [
    "lr1 = LogisticRegression(random_state=422, penalty='l1', solver='liblinear')\n",
    "lr1.fit(X, y_)\n"
   ]
  },
  {
   "cell_type": "code",
   "execution_count": 47,
   "metadata": {},
   "outputs": [
    {
     "ename": "ModuleNotFoundError",
     "evalue": "No module named 'sklearn'",
     "output_type": "error",
     "traceback": [
      "\u001b[1;31m---------------------------------------------------------------------------\u001b[0m",
      "\u001b[1;31mModuleNotFoundError\u001b[0m                       Traceback (most recent call last)",
      "\u001b[1;32mc:\\Users\\alex7\\Dropbox (ASU)\\Code\\8.3\\preprocess.ipynb Cell 24\u001b[0m in \u001b[0;36m<cell line: 1>\u001b[1;34m()\u001b[0m\n\u001b[1;32m----> <a href='vscode-notebook-cell:/c%3A/Users/alex7/Dropbox%20%28ASU%29/Code/8.3/preprocess.ipynb#ch0000023?line=0'>1</a>\u001b[0m \u001b[39mfrom\u001b[39;00m \u001b[39msklearn\u001b[39;00m\u001b[39m.\u001b[39;00m\u001b[39mlinear_model\u001b[39;00m \u001b[39mimport\u001b[39;00m LogisticRegression\n\u001b[0;32m      <a href='vscode-notebook-cell:/c%3A/Users/alex7/Dropbox%20%28ASU%29/Code/8.3/preprocess.ipynb#ch0000023?line=1'>2</a>\u001b[0m \u001b[39mfrom\u001b[39;00m \u001b[39msklearn\u001b[39;00m\u001b[39m.\u001b[39;00m\u001b[39mmetrics\u001b[39;00m \u001b[39mimport\u001b[39;00m classification_report\n\u001b[0;32m      <a href='vscode-notebook-cell:/c%3A/Users/alex7/Dropbox%20%28ASU%29/Code/8.3/preprocess.ipynb#ch0000023?line=3'>4</a>\u001b[0m lr1 \u001b[39m=\u001b[39m LogisticRegression(random_state\u001b[39m=\u001b[39m\u001b[39m422\u001b[39m, penalty\u001b[39m=\u001b[39m\u001b[39m'\u001b[39m\u001b[39ml1\u001b[39m\u001b[39m'\u001b[39m, solver\u001b[39m=\u001b[39m\u001b[39m'\u001b[39m\u001b[39mliblinear\u001b[39m\u001b[39m'\u001b[39m)\n",
      "\u001b[1;31mModuleNotFoundError\u001b[0m: No module named 'sklearn'"
     ]
    }
   ],
   "source": [
    "from sklearn.linear_model import LogisticRegression\n",
    "from sklearn.metrics import classification_report\n",
    "\n",
    "lr1 = LogisticRegression(random_state=422, penalty='l1', solver='liblinear')\n",
    "lr1.fit(X_, y_)\n",
    "\n",
    "\n",
    "y_pred_ = lr1.predict(x_test)\n",
    "print(f\"F1 Score {f1_score(y_test, y_pred_, average='macro')}\")\n",
    "print(f\"Accuracy {accuracy_score(y_test, y_pred_)}\")\n",
    "print(classification_report(y_test, y_pred_))"
   ]
  }
 ],
 "metadata": {
  "kernelspec": {
   "display_name": "Python 3.10.4 ('tf')",
   "language": "python",
   "name": "python3"
  },
  "language_info": {
   "codemirror_mode": {
    "name": "ipython",
    "version": 3
   },
   "file_extension": ".py",
   "mimetype": "text/x-python",
   "name": "python",
   "nbconvert_exporter": "python",
   "pygments_lexer": "ipython3",
   "version": "3.10.4"
  },
  "orig_nbformat": 4,
  "vscode": {
   "interpreter": {
    "hash": "1ea0c19e630ccbd4bb67376499c46074b2957bb172832cf992238572267d0f7a"
   }
  }
 },
 "nbformat": 4,
 "nbformat_minor": 2
}
